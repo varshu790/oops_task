{
 "cells": [
  {
   "cell_type": "markdown",
   "id": "0c918005-ec03-4985-af6f-5ebaefd0c745",
   "metadata": {},
   "source": [
    "### Q1, Create a vehicle class with an init method having instance variables as name_of_vehicle, max_speed and average_of_vehicle."
   ]
  },
  {
   "cell_type": "code",
   "execution_count": 31,
   "id": "ccbabbc1-e9a1-4cee-ba54-1ba94a64538a",
   "metadata": {},
   "outputs": [],
   "source": [
    "class vehicle:\n",
    "    def __init__(self,name_of_vehicle,max_speed,average_of_vehicle):\n",
    "        self.name_of_vehicle=name_of_vehicle\n",
    "        self.max_speed=max_speed\n",
    "        self.average_of_vehicle=average_of_vehicle"
   ]
  },
  {
   "cell_type": "markdown",
   "id": "85d5035a-997b-4fb7-a73f-9163e5dd50d7",
   "metadata": {},
   "source": [
    "### Q2. Create a child class car from the vehicle class created in Que 1, which will inherit the vehicle class.Create a method named seating_capacity which takes capacity as an argument and returns the name of the vehicle and its seating capacity."
   ]
  },
  {
   "cell_type": "code",
   "execution_count": 40,
   "id": "b4e3212e-f32e-4948-ad49-612f8c20e506",
   "metadata": {},
   "outputs": [],
   "source": [
    "class car(vehicle):\n",
    "    \n",
    "    def seating_capacity(self,capacity):\n",
    "        self.capacity= capacity\n",
    "        return self.name_of_vehicle,self.capacity"
   ]
  },
  {
   "cell_type": "code",
   "execution_count": 37,
   "id": "4e5673d7-77f0-4647-84dd-d9fb63970aaa",
   "metadata": {},
   "outputs": [],
   "source": [
    "obj_vehicle=vehicle(\"car\",95,45)"
   ]
  },
  {
   "cell_type": "code",
   "execution_count": 42,
   "id": "327cacf4-64be-4f6f-ba65-ca2284784898",
   "metadata": {},
   "outputs": [],
   "source": [
    "obj_car=car(\"Toyota_Innova\",120,45)"
   ]
  },
  {
   "cell_type": "code",
   "execution_count": 43,
   "id": "0e5084f9-8bf8-4373-900e-6a73b3337b39",
   "metadata": {},
   "outputs": [
    {
     "data": {
      "text/plain": [
       "('Toyota_Innova', 5)"
      ]
     },
     "execution_count": 43,
     "metadata": {},
     "output_type": "execute_result"
    }
   ],
   "source": [
    "obj_car.seating_capacity(5)"
   ]
  },
  {
   "cell_type": "markdown",
   "id": "82158500-0edc-4895-8a64-94ba5930eac8",
   "metadata": {},
   "source": [
    "### Q3. What is multiple inheritance? Write a python code to demonstrate multiple inheritance."
   ]
  },
  {
   "cell_type": "code",
   "execution_count": null,
   "id": "faaca739-d460-47e1-83b0-83677c2d13d1",
   "metadata": {},
   "outputs": [],
   "source": [
    "# In multiple inheritance,a class inherits features from two or more parent classes."
   ]
  },
  {
   "cell_type": "code",
   "execution_count": 5,
   "id": "aa5cad3d-87fd-43da-b6d7-c81b668c1147",
   "metadata": {},
   "outputs": [],
   "source": [
    "class test1:\n",
    "    def class_test1(self) :\n",
    "        print(\"This is class of tset1\")"
   ]
  },
  {
   "cell_type": "code",
   "execution_count": 7,
   "id": "425976f5-30de-4b52-95ea-0f486205d36d",
   "metadata": {},
   "outputs": [],
   "source": [
    "class test2:\n",
    "    def class_test2(self):\n",
    "        print(\"Thi is class of test2\")"
   ]
  },
  {
   "cell_type": "code",
   "execution_count": 10,
   "id": "f8b482f2-84ed-4642-baed-212aa8c5c321",
   "metadata": {},
   "outputs": [],
   "source": [
    "class test3(test1, test2):\n",
    "    def class_test3(self):\n",
    "        pass"
   ]
  },
  {
   "cell_type": "code",
   "execution_count": 11,
   "id": "a59b6229-9580-4167-94e9-7c1622a63f3b",
   "metadata": {},
   "outputs": [],
   "source": [
    "obj_test3 = test3()"
   ]
  },
  {
   "cell_type": "code",
   "execution_count": 12,
   "id": "2b0a9266-2f3a-4843-bcc0-c6bbff1e3582",
   "metadata": {},
   "outputs": [
    {
     "name": "stdout",
     "output_type": "stream",
     "text": [
      "This is class of tset1\n"
     ]
    }
   ],
   "source": [
    "obj_test3.class_test1()"
   ]
  },
  {
   "cell_type": "code",
   "execution_count": 13,
   "id": "1c017aeb-025a-40b6-ad26-7d05bba6fe35",
   "metadata": {},
   "outputs": [
    {
     "name": "stdout",
     "output_type": "stream",
     "text": [
      "Thi is class of test2\n"
     ]
    }
   ],
   "source": [
    "obj_test3.class_test2()"
   ]
  },
  {
   "cell_type": "markdown",
   "id": "ef26b745-298c-47c9-9898-f734f3bbef91",
   "metadata": {},
   "source": [
    "### Q4. What are getter and setter in python? Create a class and create a getter and a setter method in this class."
   ]
  },
  {
   "cell_type": "raw",
   "id": "da73d380-dbfd-4816-bec0-c9d220546986",
   "metadata": {},
   "source": [
    "# getter and setter in python are methods used for getting and setting values of variables even if the \n",
    "# variables are made private also. "
   ]
  },
  {
   "cell_type": "code",
   "execution_count": 21,
   "id": "8b9756d2-f2d5-4b8a-b14d-6b02aaf91542",
   "metadata": {},
   "outputs": [],
   "source": [
    "class class2:\n",
    "    def __init__(self,id,name):\n",
    "        self.__id = id\n",
    "        self.__name = name\n",
    "        \n",
    "    def set_id(self,id):\n",
    "        self.__id = id\n",
    "        \n",
    "    def set_name(self,name):\n",
    "        self.__name= name\n",
    "        \n",
    "    def get_id(self):\n",
    "        return self.__id\n",
    "    \n",
    "    def get_name(self):\n",
    "        return self.__name"
   ]
  },
  {
   "cell_type": "code",
   "execution_count": 23,
   "id": "97e8b7b7-ce5c-449d-9975-0880bd8f63a4",
   "metadata": {},
   "outputs": [],
   "source": [
    "obj_class2= class2(2304,\"armaan\")"
   ]
  },
  {
   "cell_type": "code",
   "execution_count": 24,
   "id": "6f9b80e6-b442-4a41-bb66-a545e77f9b0f",
   "metadata": {},
   "outputs": [
    {
     "data": {
      "text/plain": [
       "2304"
      ]
     },
     "execution_count": 24,
     "metadata": {},
     "output_type": "execute_result"
    }
   ],
   "source": [
    "obj_class2.get_id()"
   ]
  },
  {
   "cell_type": "code",
   "execution_count": 25,
   "id": "36ddea57-9eee-40dd-a29d-be523c4abf1d",
   "metadata": {},
   "outputs": [
    {
     "data": {
      "text/plain": [
       "'armaan'"
      ]
     },
     "execution_count": 25,
     "metadata": {},
     "output_type": "execute_result"
    }
   ],
   "source": [
    "obj_class2.get_name()"
   ]
  },
  {
   "cell_type": "code",
   "execution_count": 26,
   "id": "02483559-0e1a-44a4-92f3-be55596121fd",
   "metadata": {},
   "outputs": [],
   "source": [
    "obj_class2.set_id(1224)"
   ]
  },
  {
   "cell_type": "code",
   "execution_count": 27,
   "id": "db998d21-e0cc-4ba9-b1fa-651d58e3b593",
   "metadata": {},
   "outputs": [
    {
     "data": {
      "text/plain": [
       "1224"
      ]
     },
     "execution_count": 27,
     "metadata": {},
     "output_type": "execute_result"
    }
   ],
   "source": [
    "obj_class2.get_id()"
   ]
  },
  {
   "cell_type": "code",
   "execution_count": 28,
   "id": "85791630-6a6e-4d6f-85be-cbbf8a044d5d",
   "metadata": {},
   "outputs": [],
   "source": [
    "obj_class2.set_name(\"Rahman\")"
   ]
  },
  {
   "cell_type": "code",
   "execution_count": 29,
   "id": "c9ea9c0d-4487-4add-b14b-ab325d79059e",
   "metadata": {},
   "outputs": [
    {
     "data": {
      "text/plain": [
       "'Rahman'"
      ]
     },
     "execution_count": 29,
     "metadata": {},
     "output_type": "execute_result"
    }
   ],
   "source": [
    "obj_class2.get_name()"
   ]
  },
  {
   "cell_type": "markdown",
   "id": "d1c6a782-1e0a-456e-b0c1-515283efec2c",
   "metadata": {
    "tags": []
   },
   "source": [
    "### Q5.What is method overriding in python? Write a python code to demonstrate method overriding."
   ]
  },
  {
   "cell_type": "raw",
   "id": "bd13b0a8-ee6b-4bea-a19e-1d8f39fd2e23",
   "metadata": {},
   "source": [
    "# When a method in a subclass has the same name, same parameters or signature and same return type(or sub-type) as a \n",
    "# method in its super-class, then the method in the subclass is said to override the method in the super-class."
   ]
  },
  {
   "cell_type": "code",
   "execution_count": 45,
   "id": "197970ab-5f50-4998-a037-d29c4f9ccc51",
   "metadata": {},
   "outputs": [],
   "source": [
    "class parent:\n",
    "    def test1(self):\n",
    "        print(\"This is test1 of parent class\")\n"
   ]
  },
  {
   "cell_type": "code",
   "execution_count": 46,
   "id": "74492dc1-b49b-4117-b9c4-e522e0b4a2c2",
   "metadata": {},
   "outputs": [],
   "source": [
    "class child(parent):\n",
    "    def test1(self):\n",
    "        print(\"This is test1 of child class\")"
   ]
  },
  {
   "cell_type": "code",
   "execution_count": 47,
   "id": "8de65afb-a3bf-4df2-9167-ab00e0a91e6f",
   "metadata": {},
   "outputs": [],
   "source": [
    "obj_parent=parent()"
   ]
  },
  {
   "cell_type": "code",
   "execution_count": 48,
   "id": "a06ab0a8-a21a-4c8b-8a7a-f57de9e0ad87",
   "metadata": {},
   "outputs": [],
   "source": [
    "obj_child=child()"
   ]
  },
  {
   "cell_type": "code",
   "execution_count": 49,
   "id": "e16e7c31-47ed-4486-a4c1-c388a35d7d93",
   "metadata": {},
   "outputs": [
    {
     "name": "stdout",
     "output_type": "stream",
     "text": [
      "This is test1 of parent class\n"
     ]
    }
   ],
   "source": [
    "obj_parent.test1()"
   ]
  },
  {
   "cell_type": "code",
   "execution_count": 51,
   "id": "fdcaa4ae-baa3-46eb-b1bb-6b6343687256",
   "metadata": {},
   "outputs": [
    {
     "name": "stdout",
     "output_type": "stream",
     "text": [
      "This is test1 of child class\n"
     ]
    }
   ],
   "source": [
    "obj_child.test1()"
   ]
  }
 ],
 "metadata": {
  "kernelspec": {
   "display_name": "Python 3 (ipykernel)",
   "language": "python",
   "name": "python3"
  },
  "language_info": {
   "codemirror_mode": {
    "name": "ipython",
    "version": 3
   },
   "file_extension": ".py",
   "mimetype": "text/x-python",
   "name": "python",
   "nbconvert_exporter": "python",
   "pygments_lexer": "ipython3",
   "version": "3.10.8"
  }
 },
 "nbformat": 4,
 "nbformat_minor": 5
}
